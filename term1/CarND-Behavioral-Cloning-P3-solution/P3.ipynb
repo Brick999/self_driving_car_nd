{
 "cells": [
  {
   "cell_type": "code",
   "execution_count": 1,
   "metadata": {
    "collapsed": true
   },
   "outputs": [],
   "source": [
    "import csv\n",
    "import cv2"
   ]
  },
  {
   "cell_type": "code",
   "execution_count": 2,
   "metadata": {},
   "outputs": [],
   "source": [
    "#read csv data file\n",
    "lines = []\n",
    "\n",
    "with open('./data/driving_log.csv') as csvDataFile:\n",
    "    csvReader = csv.reader(csvDataFile)\n",
    "    for row in csvReader:\n",
    "        lines.append(row)"
   ]
  },
  {
   "cell_type": "code",
   "execution_count": 4,
   "metadata": {},
   "outputs": [
    {
     "data": {
      "text/plain": [
       "['/Users/manika/Desktop/data/IMG/center_2017_10_25_18_26_51_303.jpg',\n",
       " '/Users/manika/Desktop/data/IMG/left_2017_10_25_18_26_51_303.jpg',\n",
       " '/Users/manika/Desktop/data/IMG/right_2017_10_25_18_26_51_303.jpg',\n",
       " '0',\n",
       " '0',\n",
       " '0',\n",
       " '9.12E-07']"
      ]
     },
     "execution_count": 4,
     "metadata": {},
     "output_type": "execute_result"
    }
   ],
   "source": [
    "lines[0]"
   ]
  },
  {
   "cell_type": "code",
   "execution_count": 5,
   "metadata": {},
   "outputs": [],
   "source": [
    "#read the center images\n",
    "images = []\n",
    "measurement = []\n",
    "for line in lines:\n",
    "    imagePath = line[0]\n",
    "    image = cv2.imread(imagePath)\n",
    "    images.append(image)\n",
    "    measurement.appe"
   ]
  },
  {
   "cell_type": "code",
   "execution_count": null,
   "metadata": {
    "collapsed": true
   },
   "outputs": [],
   "source": []
  }
 ],
 "metadata": {
  "kernelspec": {
   "display_name": "Python 3",
   "language": "python",
   "name": "python3"
  },
  "language_info": {
   "codemirror_mode": {
    "name": "ipython",
    "version": 3
   },
   "file_extension": ".py",
   "mimetype": "text/x-python",
   "name": "python",
   "nbconvert_exporter": "python",
   "pygments_lexer": "ipython3",
   "version": "3.5.4"
  }
 },
 "nbformat": 4,
 "nbformat_minor": 2
}

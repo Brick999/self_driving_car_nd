{
 "cells": [
  {
   "cell_type": "code",
   "execution_count": 100,
   "metadata": {
    "collapsed": true
   },
   "outputs": [],
   "source": [
    "import csv\n",
    "import cv2\n",
    "import numpy as np"
   ]
  },
  {
   "cell_type": "code",
   "execution_count": 101,
   "metadata": {
    "collapsed": true
   },
   "outputs": [],
   "source": [
    "#read csv data file\n",
    "lines = []\n",
    "\n",
    "with open('./data/driving_log.csv') as csvDataFile:\n",
    "    csvReader = csv.reader(csvDataFile)\n",
    "    for row in csvReader:\n",
    "        lines.append(row)"
   ]
  },
  {
   "cell_type": "code",
   "execution_count": 102,
   "metadata": {},
   "outputs": [
    {
     "data": {
      "text/plain": [
       "['/Users/manika/Desktop/data/IMG/center_2017_10_25_18_26_51_303.jpg',\n",
       " '/Users/manika/Desktop/data/IMG/left_2017_10_25_18_26_51_303.jpg',\n",
       " '/Users/manika/Desktop/data/IMG/right_2017_10_25_18_26_51_303.jpg',\n",
       " '0',\n",
       " '0',\n",
       " '0',\n",
       " '9.12E-07']"
      ]
     },
     "execution_count": 102,
     "metadata": {},
     "output_type": "execute_result"
    }
   ],
   "source": [
    "lines[0]"
   ]
  },
  {
   "cell_type": "code",
   "execution_count": 114,
   "metadata": {},
   "outputs": [],
   "source": [
    "#read the center images\n",
    "images = []\n",
    "measurements = []\n",
    "for line in lines:\n",
    "#     for i in range(3):\n",
    "#         imagePath = line[i]\n",
    "    sourcePath = line[i]\n",
    "    fileName = sourcePath.split('/')[-1]\n",
    "    currentPath = './data/IMG/'+fileName\n",
    "    image = cv2.imread(currentPath)\n",
    "#         image = cv2.imread(imagePath)\n",
    "    images.append(image)\n",
    "    measurement = float (line[3])\n",
    "    measurements.append(measurement)"
   ]
  },
  {
   "cell_type": "code",
   "execution_count": 120,
   "metadata": {},
   "outputs": [
    {
     "data": {
      "text/plain": [
       "2388"
      ]
     },
     "execution_count": 120,
     "metadata": {},
     "output_type": "execute_result"
    }
   ],
   "source": [
    "len(images)"
   ]
  },
  {
   "cell_type": "code",
   "execution_count": 121,
   "metadata": {},
   "outputs": [
    {
     "name": "stdout",
     "output_type": "stream",
     "text": [
      "[[[185 145 116]\n",
      "  [185 145 116]\n",
      "  [184 144 115]\n",
      "  ..., \n",
      "  [ 24  36  30]\n",
      "  [ 37  52  44]\n",
      "  [  7  22  14]]\n",
      "\n",
      " [[185 145 116]\n",
      "  [185 145 116]\n",
      "  [185 145 116]\n",
      "  ..., \n",
      "  [  0   3   0]\n",
      "  [  0   6   0]\n",
      "  [  0  13   7]]\n",
      "\n",
      " [[186 146 117]\n",
      "  [186 146 117]\n",
      "  [186 146 117]\n",
      "  ..., \n",
      "  [ 16  29  27]\n",
      "  [ 20  33  31]\n",
      "  [ 26  41  37]]\n",
      "\n",
      " ..., \n",
      " [[173 187 175]\n",
      "  [157 171 159]\n",
      "  [142 154 142]\n",
      "  ..., \n",
      "  [221 236 255]\n",
      "  [228 242 255]\n",
      "  [220 233 255]]\n",
      "\n",
      " [[169 183 171]\n",
      "  [152 166 154]\n",
      "  [138 151 137]\n",
      "  ..., \n",
      "  [241 251 255]\n",
      "  [202 210 233]\n",
      "  [241 249 255]]\n",
      "\n",
      " [[166 180 168]\n",
      "  [149 163 151]\n",
      "  [136 149 135]\n",
      "  ..., \n",
      "  [245 254 255]\n",
      "  [248 254 255]\n",
      "  [241 246 255]]]\n"
     ]
    }
   ],
   "source": [
    "print (images[0])"
   ]
  },
  {
   "cell_type": "code",
   "execution_count": 122,
   "metadata": {},
   "outputs": [
    {
     "data": {
      "text/plain": [
       "0.0"
      ]
     },
     "execution_count": 122,
     "metadata": {},
     "output_type": "execute_result"
    }
   ],
   "source": [
    "measurements[0]"
   ]
  },
  {
   "cell_type": "code",
   "execution_count": 123,
   "metadata": {
    "collapsed": true
   },
   "outputs": [],
   "source": [
    "#data augmentation\n",
    "augmentedImages, augmentedMeasurements = [], []\n",
    "for image, measurement in zip(images, measurements):\n",
    "    augmentedImages.append(image)\n",
    "    augmentedMeasurements.append(measurement)\n",
    "    augmentedImages.append(cv2.flip(image, 1))\n",
    "    augmentedMeasurements.append(measurement*-1.0)"
   ]
  },
  {
   "cell_type": "code",
   "execution_count": 124,
   "metadata": {
    "collapsed": true
   },
   "outputs": [],
   "source": [
    "#convert the images and measurements to train data and label\n",
    "# X_train = np.array(images)\n",
    "# y_train = np.array(measurements)\n",
    "X_train = np.array(augmentedImages)\n",
    "y_train = np.array(augmentedMeasurements)"
   ]
  },
  {
   "cell_type": "code",
   "execution_count": 125,
   "metadata": {},
   "outputs": [
    {
     "data": {
      "text/plain": [
       "4776"
      ]
     },
     "execution_count": 125,
     "metadata": {},
     "output_type": "execute_result"
    }
   ],
   "source": [
    "len(X_train)"
   ]
  },
  {
   "cell_type": "code",
   "execution_count": null,
   "metadata": {},
   "outputs": [
    {
     "name": "stdout",
     "output_type": "stream",
     "text": [
      "Train on 3820 samples, validate on 956 samples\n",
      "Epoch 1/4\n",
      " 320/3820 [=>............................] - ETA: 139s - loss: 90.8542 "
     ]
    }
   ],
   "source": [
    "#build a basic neural network to check if everything is working\n",
    "from keras.models import Sequential\n",
    "from keras.layers import Flatten, Dense, Lambda, Activation\n",
    "from keras.layers.convolutional import Convolution2D\n",
    "from keras.layers.convolutional import MaxPooling2D\n",
    "\n",
    "model = Sequential()\n",
    "model.add(Lambda(lambda x:x/255.0-0.5, input_shape=(160, 320, 3)))\n",
    "model.add(Convolution2D(6, (5, 5)))\n",
    "model.add(Activation(\"relu\"))\n",
    "model.add(MaxPooling2D())\n",
    "model.add(Convolution2D(6, (5, 5)))\n",
    "model.add(Activation(\"relu\"))\n",
    "model.add(MaxPooling2D())\n",
    "model.add(Flatten())\n",
    "model.add(Dense(120))\n",
    "model.add(Dense(84))\n",
    "model.add(Dense(1))\n",
    "\n",
    "model.compile(loss='mse', optimizer='adam')\n",
    "model.fit(X_train, y_train, validation_split = 0.2, shuffle=True, epochs=4) #nb_epoch is set to 7 as after this the loss increses\n",
    "\n",
    "model.save('modelAug.h5')"
   ]
  },
  {
   "cell_type": "code",
   "execution_count": null,
   "metadata": {
    "collapsed": true
   },
   "outputs": [],
   "source": []
  },
  {
   "cell_type": "code",
   "execution_count": null,
   "metadata": {
    "collapsed": true
   },
   "outputs": [],
   "source": []
  }
 ],
 "metadata": {
  "kernelspec": {
   "display_name": "Python 2",
   "language": "python",
   "name": "python2"
  },
  "language_info": {
   "codemirror_mode": {
    "name": "ipython",
    "version": 2
   },
   "file_extension": ".py",
   "mimetype": "text/x-python",
   "name": "python",
   "nbconvert_exporter": "python",
   "pygments_lexer": "ipython2",
   "version": "2.7.14"
  }
 },
 "nbformat": 4,
 "nbformat_minor": 2
}

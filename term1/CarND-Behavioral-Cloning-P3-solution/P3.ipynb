{
 "cells": [
  {
   "cell_type": "code",
   "execution_count": 22,
   "metadata": {
    "collapsed": true
   },
   "outputs": [],
   "source": [
    "import csv\n",
    "import cv2\n",
    "import numpy as np\n",
    "import sklearn"
   ]
  },
  {
   "cell_type": "code",
   "execution_count": 23,
   "metadata": {
    "collapsed": true
   },
   "outputs": [],
   "source": [
    "#read csv data file\n",
    "lines = []\n",
    "\n",
    "with open('./data/driving_log.csv') as csvDataFile:\n",
    "    csvReader = csv.reader(csvDataFile)\n",
    "    for row in csvReader:\n",
    "        lines.append(row)"
   ]
  },
  {
   "cell_type": "code",
   "execution_count": 24,
   "metadata": {},
   "outputs": [
    {
     "data": {
      "text/plain": [
       "['/Users/manika/Desktop/moreData/IMG/center_2017_10_29_01_23_40_351.jpg',\n",
       " '/Users/manika/Desktop/moreData/IMG/left_2017_10_29_01_23_40_351.jpg',\n",
       " '/Users/manika/Desktop/moreData/IMG/right_2017_10_29_01_23_40_351.jpg',\n",
       " '0',\n",
       " '0',\n",
       " '0',\n",
       " '4.633465E-06']"
      ]
     },
     "execution_count": 24,
     "metadata": {},
     "output_type": "execute_result"
    }
   ],
   "source": [
    "lines[0]"
   ]
  },
  {
   "cell_type": "code",
   "execution_count": 25,
   "metadata": {},
   "outputs": [],
   "source": [
    "#read the center images\n",
    "images = []\n",
    "measurements = []\n",
    "for line in lines:\n",
    "#     for i in range(3):\n",
    "#         imagePath = line[i]\n",
    "    sourcePath = line[0]\n",
    "    fileName = sourcePath.split('/')[-1]\n",
    "    currentPath = './data/IMG/'+fileName\n",
    "#     image = cv2.imread(currentPath)\n",
    "#         image = cv2.imread(imagePath)\n",
    "#     images.append(image)\n",
    "    images.append(currentPath)\n",
    "    measurement = float (line[3])\n",
    "    measurements.append(measurement)"
   ]
  },
  {
   "cell_type": "code",
   "execution_count": 31,
   "metadata": {
    "collapsed": true
   },
   "outputs": [],
   "source": [
    "centerImages = []\n",
    "leftImages = []\n",
    "rightImages = []\n",
    "measurements = []\n",
    "\n",
    "for line in lines:\n",
    "    centerPath = line[0]\n",
    "    leftPath = line[1]\n",
    "    rightPath = line[2]\n",
    "    fileNameCenter = centerPath.split('/')[-1]\n",
    "    fileNameLeft = leftPath.split('/')[-1]\n",
    "    fileNameRight = leftPath.split('/')[-1]\n",
    "    centerImages.append('./data/IMG/'+fileNameCenter)\n",
    "    leftImages.append('./data/IMG/'+fileNameLeft)\n",
    "    rightImages.append('./data/IMG/'+fileNameRight)\n",
    "    measurements.append(float (line[3]))"
   ]
  },
  {
   "cell_type": "code",
   "execution_count": null,
   "metadata": {
    "collapsed": true
   },
   "outputs": [],
   "source": [
    "def combineImages(center, left, right, measurement, correction):\n",
    "    imagePaths = []\n",
    "    imagePaths.extend(center)\n",
    "    imagePaths.extend(left)\n",
    "    imagePaths.extend(right)\n",
    "    measurements = []\n",
    "    measurements.extend(measurement)\n",
    "    measurements.extend([x + correction for x in measurement])\n",
    "    measurements.extend([x - correction for x in measurement])\n",
    "    return (imagePaths, measurements)"
   ]
  },
  {
   "cell_type": "code",
   "execution_count": null,
   "metadata": {
    "collapsed": true
   },
   "outputs": [],
   "source": [
    "images, measurements = combineImages(centerImages, leftImages, rightImages, measurements, 0.2)"
   ]
  },
  {
   "cell_type": "code",
   "execution_count": 26,
   "metadata": {},
   "outputs": [],
   "source": [
    "from sklearn.model_selection import train_test_split\n",
    "samples = list(zip(images, measurements))\n",
    "train_samples, validation_samples = train_test_split(samples, test_size=0.2)\n",
    "\n",
    "def generator(samples, batch_size=32):\n",
    "    num_samples = len(samples)\n",
    "    while 1: # Loop forever so the generator never terminates\n",
    "        samples = sklearn.utils.shuffle(samples)\n",
    "        for offset in range(0, num_samples, batch_size):\n",
    "            batch_samples = samples[offset:offset+batch_size]\n",
    "\n",
    "            images = []\n",
    "            angles = []\n",
    "            for imagePath, measurement in batch_samples:\n",
    "#                 fileName = imagePath.split('/')[-1]\n",
    "#                 currentPath = './data/IMG/'+fileName\n",
    "                image = cv2.imread(imagePath)\n",
    "                \n",
    "#                 originalImage = cv2.imread(imagePath)\n",
    "#                 image = cv2.cvtColor(originalImage, cv2.COLOR_BGR2RGB)\n",
    "                images.append(image)\n",
    "                angles.append(measurement)\n",
    "                # Flipping\n",
    "                images.append(cv2.flip(image,1))\n",
    "                angles.append(measurement*-1.0)\n",
    "\n",
    "            # trim image to only see section with road\n",
    "            X_train = np.array(images)\n",
    "            y_train = np.array(angles)\n",
    "            yield sklearn.utils.shuffle(X_train, y_train)"
   ]
  },
  {
   "cell_type": "code",
   "execution_count": 27,
   "metadata": {},
   "outputs": [],
   "source": [
    "# compile and train the model using the generator function\n",
    "train_generator = generator(train_samples, batch_size=32)\n",
    "validation_generator = generator(validation_samples, batch_size=32)"
   ]
  },
  {
   "cell_type": "code",
   "execution_count": 28,
   "metadata": {},
   "outputs": [],
   "source": [
    "# print (images[0])"
   ]
  },
  {
   "cell_type": "code",
   "execution_count": 29,
   "metadata": {},
   "outputs": [],
   "source": [
    "# measurements[0]"
   ]
  },
  {
   "cell_type": "code",
   "execution_count": null,
   "metadata": {},
   "outputs": [],
   "source": [
    "#data augmentation\n",
    "augmentedImages, augmentedMeasurements = [], []\n",
    "for image, measurement in zip(images, measurements):\n",
    "    augmentedImages.append(image)\n",
    "    augmentedMeasurements.append(measurement)\n",
    "    augmentedImages.append(cv2.flip(image, 1))\n",
    "    augmentedMeasurements.append(measurement*-1.0)"
   ]
  },
  {
   "cell_type": "code",
   "execution_count": null,
   "metadata": {
    "collapsed": true
   },
   "outputs": [],
   "source": [
    "#convert the images and measurements to train data and label\n",
    "# X_train = np.array(images)\n",
    "# y_train = np.array(measurements)\n",
    "# X_train = np.array(augmentedImages)\n",
    "# y_train = np.array(augmentedMeasurements)"
   ]
  },
  {
   "cell_type": "code",
   "execution_count": null,
   "metadata": {},
   "outputs": [],
   "source": [
    "len(X_train)"
   ]
  },
  {
   "cell_type": "code",
   "execution_count": null,
   "metadata": {},
   "outputs": [],
   "source": [
    "# #build a basic neural network to check if everything is working\n",
    "# from keras.models import Sequential\n",
    "# from keras.layers import Flatten, Dense, Lambda, Activation, Cropping2D\n",
    "# from keras.layers.convolutional import Convolution2D\n",
    "# from keras.layers.convolutional import MaxPooling2D\n",
    "\n",
    "# #Lenet Architecture\n",
    "# model = Sequential()\n",
    "# model.add(Cropping2D(cropping=((50,20), (0,0)), input_shape=(3,160,320)))\n",
    "# model.add(Lambda(lambda x:x/255.0-0.5, input_shape=(160, 320, 3)))\n",
    "# model.add(Convolution2D(6, (5, 5)))\n",
    "# model.add(Activation(\"relu\"))\n",
    "# model.add(MaxPooling2D())\n",
    "# model.add(Convolution2D(6, (5, 5)))\n",
    "# model.add(Activation(\"relu\"))\n",
    "# model.add(MaxPooling2D())\n",
    "# model.add(Flatten())\n",
    "# model.add(Dense(120))\n",
    "# model.add(Dense(84))\n",
    "# model.add(Dense(1))\n",
    "\n",
    "# model.compile(loss='mse', optimizer='adam')\n",
    "# model.fit(X_train, y_train, validation_split = 0.2, shuffle=True, epochs=4) #nb_epoch is set to 7 as after this the loss increses\n",
    "\n",
    "# model.save('modelAug.h5')"
   ]
  },
  {
   "cell_type": "code",
   "execution_count": 30,
   "metadata": {},
   "outputs": [
    {
     "name": "stderr",
     "output_type": "stream",
     "text": [
      "/Users/manika/anaconda3/envs/behavior/lib/python2.7/site-packages/ipykernel_launcher.py:25: UserWarning: The semantics of the Keras 2 argument `steps_per_epoch` is not the same as the Keras 1 argument `samples_per_epoch`. `steps_per_epoch` is the number of batches to draw from the generator at each epoch. Basically steps_per_epoch = samples_per_epoch/batch_size. Similarly `nb_val_samples`->`validation_steps` and `val_samples`->`steps` arguments have changed. Update your method calls accordingly.\n",
      "/Users/manika/anaconda3/envs/behavior/lib/python2.7/site-packages/ipykernel_launcher.py:25: UserWarning: Update your `fit_generator` call to the Keras 2 API: `fit_generator(<generator..., validation_data=<generator..., steps_per_epoch=7135, epochs=3, validation_steps=1784)`\n"
     ]
    },
    {
     "name": "stdout",
     "output_type": "stream",
     "text": [
      "Epoch 1/3\n",
      "7135/7135 [==============================] - 6953s - loss: 0.0163 - val_loss: 0.0448\n",
      "Epoch 2/3\n",
      "7135/7135 [==============================] - 6756s - loss: 0.0016 - val_loss: 0.0404\n",
      "Epoch 3/3\n",
      "7135/7135 [==============================] - 6768s - loss: 9.9471e-04 - val_loss: 0.0392\n"
     ]
    }
   ],
   "source": [
    "#NVIDIA architecture\n",
    "\n",
    "from keras.models import Sequential\n",
    "from keras.layers import Flatten, Dense, Lambda, Activation, Cropping2D\n",
    "from keras.layers.convolutional import Convolution2D\n",
    "from keras.layers.convolutional import MaxPooling2D\n",
    "\n",
    "#Lenet Architecture\n",
    "model = Sequential()\n",
    "model.add(Cropping2D(cropping=((70,20), (0,0)), input_shape=(160,320,3)))\n",
    "model.add(Lambda(lambda x:x/255.0-0.5))\n",
    "model.add(Convolution2D(24, (5, 5), strides=(2,2), activation='relu'))\n",
    "model.add(Convolution2D(36, (5, 5), strides=(2,2), activation='relu'))\n",
    "model.add(Convolution2D(48, (5, 5), strides=(2,2), activation='relu'))\n",
    "model.add(Convolution2D(64, (3, 3), activation='relu'))\n",
    "model.add(Convolution2D(64, (3, 3), activation='relu'))\n",
    "model.add(Flatten())\n",
    "model.add(Dense(100))\n",
    "model.add(Dense(50))\n",
    "model.add(Dense(10))\n",
    "model.add(Dense(1))\n",
    "\n",
    "model.compile(loss='mse', optimizer='adam')\n",
    "# model.fit(X_train, y_train, validation_split = 0.2, shuffle=True, epochs=5) #nb_epoch is set to 7 as after this the loss increses\n",
    "history_object = model.fit_generator(train_generator, samples_per_epoch= \\\n",
    "                 len(train_samples), validation_data=validation_generator, \\\n",
    "                 nb_val_samples=len(validation_samples), epochs=3)\n",
    "\n",
    "model.save('modelGen.h5')"
   ]
  },
  {
   "cell_type": "code",
   "execution_count": null,
   "metadata": {
    "collapsed": true
   },
   "outputs": [],
   "source": []
  }
 ],
 "metadata": {
  "kernelspec": {
   "display_name": "Python 2",
   "language": "python",
   "name": "python2"
  },
  "language_info": {
   "codemirror_mode": {
    "name": "ipython",
    "version": 2
   },
   "file_extension": ".py",
   "mimetype": "text/x-python",
   "name": "python",
   "nbconvert_exporter": "python",
   "pygments_lexer": "ipython2",
   "version": "2.7.14"
  }
 },
 "nbformat": 4,
 "nbformat_minor": 2
}

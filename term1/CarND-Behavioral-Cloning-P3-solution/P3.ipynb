{
 "cells": [
  {
   "cell_type": "code",
   "execution_count": 11,
   "metadata": {
    "collapsed": true
   },
   "outputs": [],
   "source": [
    "import csv\n",
    "import cv2\n",
    "import numpy as np"
   ]
  },
  {
   "cell_type": "code",
   "execution_count": 2,
   "metadata": {},
   "outputs": [],
   "source": [
    "#read csv data file\n",
    "lines = []\n",
    "\n",
    "with open('./data/driving_log.csv') as csvDataFile:\n",
    "    csvReader = csv.reader(csvDataFile)\n",
    "    for row in csvReader:\n",
    "        lines.append(row)"
   ]
  },
  {
   "cell_type": "code",
   "execution_count": 4,
   "metadata": {},
   "outputs": [
    {
     "data": {
      "text/plain": [
       "['/Users/manika/Desktop/data/IMG/center_2017_10_25_18_26_51_303.jpg',\n",
       " '/Users/manika/Desktop/data/IMG/left_2017_10_25_18_26_51_303.jpg',\n",
       " '/Users/manika/Desktop/data/IMG/right_2017_10_25_18_26_51_303.jpg',\n",
       " '0',\n",
       " '0',\n",
       " '0',\n",
       " '9.12E-07']"
      ]
     },
     "execution_count": 4,
     "metadata": {},
     "output_type": "execute_result"
    }
   ],
   "source": [
    "lines[0]"
   ]
  },
  {
   "cell_type": "code",
   "execution_count": 6,
   "metadata": {},
   "outputs": [],
   "source": [
    "#read the center images\n",
    "images = []\n",
    "measurements = []\n",
    "for line in lines:\n",
    "    imagePath = line[0]\n",
    "    image = cv2.imread(imagePath)\n",
    "    images.append(image)\n",
    "    measurement = float (line[3])\n",
    "    measurements.append(measurement)"
   ]
  },
  {
   "cell_type": "code",
   "execution_count": 8,
   "metadata": {},
   "outputs": [
    {
     "name": "stdout",
     "output_type": "stream",
     "text": [
      "[[[185 145 116]\n",
      "  [185 145 116]\n",
      "  [184 144 115]\n",
      "  ..., \n",
      "  [ 46  53  62]\n",
      "  [  0   0   7]\n",
      "  [  4  11  20]]\n",
      "\n",
      " [[185 145 116]\n",
      "  [185 145 116]\n",
      "  [185 145 116]\n",
      "  ..., \n",
      "  [ 24  32  39]\n",
      "  [ 11  19  26]\n",
      "  [  3  11  18]]\n",
      "\n",
      " [[186 146 117]\n",
      "  [186 146 117]\n",
      "  [186 146 117]\n",
      "  ..., \n",
      "  [ 20  27  30]\n",
      "  [ 21  28  31]\n",
      "  [ 49  56  59]]\n",
      "\n",
      " ..., \n",
      " [[ 84  91  86]\n",
      "  [ 81  88  83]\n",
      "  [ 74  81  76]\n",
      "  ..., \n",
      "  [124 140 139]\n",
      "  [ 91 107 106]\n",
      "  [ 71  87  86]]\n",
      "\n",
      " [[ 75  82  77]\n",
      "  [ 52  59  54]\n",
      "  [ 65  72  67]\n",
      "  ..., \n",
      "  [ 94 110 109]\n",
      "  [ 88 104 103]\n",
      "  [ 68  84  83]]\n",
      "\n",
      " [[ 39  46  41]\n",
      "  [ 68  75  70]\n",
      "  [ 56  63  58]\n",
      "  ..., \n",
      "  [ 91 107 106]\n",
      "  [ 60  76  75]\n",
      "  [ 74  90  89]]]\n"
     ]
    }
   ],
   "source": [
    "print (images[0])"
   ]
  },
  {
   "cell_type": "code",
   "execution_count": 9,
   "metadata": {},
   "outputs": [
    {
     "data": {
      "text/plain": [
       "0.0"
      ]
     },
     "execution_count": 9,
     "metadata": {},
     "output_type": "execute_result"
    }
   ],
   "source": [
    "measurements[0]"
   ]
  },
  {
   "cell_type": "code",
   "execution_count": 12,
   "metadata": {},
   "outputs": [],
   "source": [
    "#convert the images and measurements to train data and label\n",
    "X_train = np.array(images)\n",
    "y_train = np.array(measurement)"
   ]
  },
  {
   "cell_type": "code",
   "execution_count": null,
   "metadata": {
    "collapsed": true
   },
   "outputs": [],
   "source": []
  }
 ],
 "metadata": {
  "kernelspec": {
   "display_name": "Python 3",
   "language": "python",
   "name": "python3"
  },
  "language_info": {
   "codemirror_mode": {
    "name": "ipython",
    "version": 3
   },
   "file_extension": ".py",
   "mimetype": "text/x-python",
   "name": "python",
   "nbconvert_exporter": "python",
   "pygments_lexer": "ipython3",
   "version": "3.5.4"
  }
 },
 "nbformat": 4,
 "nbformat_minor": 2
}

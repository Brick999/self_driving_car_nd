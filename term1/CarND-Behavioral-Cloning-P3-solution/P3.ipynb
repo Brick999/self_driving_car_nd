{
 "cells": [
  {
   "cell_type": "code",
   "execution_count": 76,
   "metadata": {
    "collapsed": true
   },
   "outputs": [],
   "source": [
    "import csv\n",
    "import cv2\n",
    "import numpy as np"
   ]
  },
  {
   "cell_type": "code",
   "execution_count": 77,
   "metadata": {
    "collapsed": true
   },
   "outputs": [],
   "source": [
    "#read csv data file\n",
    "lines = []\n",
    "\n",
    "with open('./data/driving_log.csv') as csvDataFile:\n",
    "    csvReader = csv.reader(csvDataFile)\n",
    "    for row in csvReader:\n",
    "        lines.append(row)"
   ]
  },
  {
   "cell_type": "code",
   "execution_count": 78,
   "metadata": {},
   "outputs": [
    {
     "data": {
      "text/plain": [
       "['/Users/manika/Desktop/data/IMG/center_2017_10_25_18_26_51_303.jpg',\n",
       " '/Users/manika/Desktop/data/IMG/left_2017_10_25_18_26_51_303.jpg',\n",
       " '/Users/manika/Desktop/data/IMG/right_2017_10_25_18_26_51_303.jpg',\n",
       " '0',\n",
       " '0',\n",
       " '0',\n",
       " '9.12E-07']"
      ]
     },
     "execution_count": 78,
     "metadata": {},
     "output_type": "execute_result"
    }
   ],
   "source": [
    "lines[0]"
   ]
  },
  {
   "cell_type": "code",
   "execution_count": 79,
   "metadata": {},
   "outputs": [],
   "source": [
    "#read the center images\n",
    "images = []\n",
    "measurements = []\n",
    "for line in lines:\n",
    "#     imagePath = line[0]\n",
    "    sourcePath = line[0]\n",
    "    fileName = sourcePath.split('/')[-1]\n",
    "    currentPath = './data/IMG/'+fileName\n",
    "    image = cv2.imread(currentPath)\n",
    "#     image = cv2.imread(imagePath)\n",
    "    images.append(image)\n",
    "    measurement = float (line[3])\n",
    "    measurements.append(measurement)"
   ]
  },
  {
   "cell_type": "code",
   "execution_count": 80,
   "metadata": {},
   "outputs": [
    {
     "name": "stdout",
     "output_type": "stream",
     "text": [
      "[[[185 145 116]\n",
      "  [185 145 116]\n",
      "  [184 144 115]\n",
      "  ..., \n",
      "  [ 46  53  62]\n",
      "  [  0   0   7]\n",
      "  [  4  11  20]]\n",
      "\n",
      " [[185 145 116]\n",
      "  [185 145 116]\n",
      "  [185 145 116]\n",
      "  ..., \n",
      "  [ 24  32  39]\n",
      "  [ 11  19  26]\n",
      "  [  3  11  18]]\n",
      "\n",
      " [[186 146 117]\n",
      "  [186 146 117]\n",
      "  [186 146 117]\n",
      "  ..., \n",
      "  [ 20  27  30]\n",
      "  [ 21  28  31]\n",
      "  [ 49  56  59]]\n",
      "\n",
      " ..., \n",
      " [[ 84  91  86]\n",
      "  [ 81  88  83]\n",
      "  [ 74  81  76]\n",
      "  ..., \n",
      "  [124 140 139]\n",
      "  [ 91 107 106]\n",
      "  [ 71  87  86]]\n",
      "\n",
      " [[ 75  82  77]\n",
      "  [ 52  59  54]\n",
      "  [ 65  72  67]\n",
      "  ..., \n",
      "  [ 94 110 109]\n",
      "  [ 88 104 103]\n",
      "  [ 68  84  83]]\n",
      "\n",
      " [[ 39  46  41]\n",
      "  [ 68  75  70]\n",
      "  [ 56  63  58]\n",
      "  ..., \n",
      "  [ 91 107 106]\n",
      "  [ 60  76  75]\n",
      "  [ 74  90  89]]]\n"
     ]
    }
   ],
   "source": [
    "print (images[0])"
   ]
  },
  {
   "cell_type": "code",
   "execution_count": 81,
   "metadata": {},
   "outputs": [
    {
     "data": {
      "text/plain": [
       "0.0"
      ]
     },
     "execution_count": 81,
     "metadata": {},
     "output_type": "execute_result"
    }
   ],
   "source": [
    "measurements[0]"
   ]
  },
  {
   "cell_type": "code",
   "execution_count": 82,
   "metadata": {
    "collapsed": true
   },
   "outputs": [],
   "source": [
    "#convert the images and measurements to train data and label\n",
    "X_train = np.array(images)\n",
    "y_train = np.array(measurements)"
   ]
  },
  {
   "cell_type": "code",
   "execution_count": 88,
   "metadata": {},
   "outputs": [
    {
     "name": "stdout",
     "output_type": "stream",
     "text": [
      "Train on 1910 samples, validate on 478 samples\n",
      "Epoch 1/2\n",
      "1910/1910 [==============================] - 2s - loss: 6.1269 - val_loss: 1.2314\n",
      "Epoch 2/2\n",
      "1910/1910 [==============================] - 1s - loss: 1.7608 - val_loss: 1.1706\n"
     ]
    }
   ],
   "source": [
    "#build a basic neural network to check if everything is working\n",
    "from keras.models import Sequential\n",
    "from keras.layers import Flatten, Dense, Lambda\n",
    "\n",
    "model = Sequential()\n",
    "model.add(Lambda(lambda x:x/255.0-0.5, input_shape=(160, 320, 3)))\n",
    "model.add(Flatten())\n",
    "model.add(Dense(1))\n",
    "\n",
    "model.compile(loss='mse', optimizer='adam')\n",
    "model.fit(X_train, y_train, validation_split = 0.2, shuffle=True, epochs=2) #nb_epoch is set to 7 as after this the loss increses\n",
    "\n",
    "model.save('modelNormdata.h5')"
   ]
  },
  {
   "cell_type": "code",
   "execution_count": null,
   "metadata": {
    "collapsed": true
   },
   "outputs": [],
   "source": []
  },
  {
   "cell_type": "code",
   "execution_count": null,
   "metadata": {
    "collapsed": true
   },
   "outputs": [],
   "source": []
  }
 ],
 "metadata": {
  "kernelspec": {
   "display_name": "Python 2",
   "language": "python",
   "name": "python2"
  },
  "language_info": {
   "codemirror_mode": {
    "name": "ipython",
    "version": 2
   },
   "file_extension": ".py",
   "mimetype": "text/x-python",
   "name": "python",
   "nbconvert_exporter": "python",
   "pygments_lexer": "ipython2",
   "version": "2.7.14"
  }
 },
 "nbformat": 4,
 "nbformat_minor": 2
}

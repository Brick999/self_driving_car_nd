{
 "cells": [
  {
   "cell_type": "code",
   "execution_count": 1,
   "metadata": {
    "collapsed": true
   },
   "outputs": [],
   "source": [
    "import csv\n",
    "import cv2\n",
    "import numpy as np\n",
    "import sklearn"
   ]
  },
  {
   "cell_type": "code",
   "execution_count": 2,
   "metadata": {
    "collapsed": true
   },
   "outputs": [],
   "source": [
    "#read csv data file\n",
    "lines = []\n",
    "\n",
    "with open('./data/driving_log.csv') as csvDataFile:\n",
    "    csvReader = csv.reader(csvDataFile)\n",
    "    for row in csvReader:\n",
    "        lines.append(row)\n",
    "    lines = lines[1:]"
   ]
  },
  {
   "cell_type": "code",
   "execution_count": 3,
   "metadata": {
    "collapsed": true
   },
   "outputs": [],
   "source": [
    "#store the left, right and center images in separate lists\n",
    "\n",
    "centerImages = []\n",
    "leftImages = []\n",
    "rightImages = []\n",
    "measurements = []\n",
    "\n",
    "for line in lines:\n",
    "    centerPath = line[0]\n",
    "    leftPath = line[1]\n",
    "    rightPath = line[2]\n",
    "    fileNameCenter = centerPath.split('/')[-1]\n",
    "    fileNameLeft = leftPath.split('/')[-1]\n",
    "    fileNameRight = leftPath.split('/')[-1]\n",
    "    centerImages.append('./data/IMG/'+fileNameCenter)\n",
    "    leftImages.append('./data/IMG/'+fileNameLeft)\n",
    "    rightImages.append('./data/IMG/'+fileNameRight)\n",
    "    measurements.append(float (line[3]))"
   ]
  },
  {
   "cell_type": "code",
   "execution_count": 4,
   "metadata": {
    "collapsed": true
   },
   "outputs": [],
   "source": [
    "#function to combine the left, center, right lists with correction attached to left and right steering angle measure\n",
    "def clrCombined(center, left, right, measurement, correction):\n",
    "    imagePaths = []\n",
    "    imagePaths.extend(center)\n",
    "    imagePaths.extend(left)\n",
    "    imagePaths.extend(right)\n",
    "    measurements = []\n",
    "    measurements.extend(measurement)\n",
    "    measurements.extend([x + correction for x in measurement])\n",
    "    measurements.extend([x - correction for x in measurement])\n",
    "    return (imagePaths, measurements)"
   ]
  },
  {
   "cell_type": "code",
   "execution_count": 5,
   "metadata": {
    "collapsed": true
   },
   "outputs": [],
   "source": [
    "images, measurements = clrCombined(centerImages, leftImages, rightImages, measurements, 0.2)"
   ]
  },
  {
   "cell_type": "code",
   "execution_count": 6,
   "metadata": {},
   "outputs": [
    {
     "name": "stdout",
     "output_type": "stream",
     "text": [
      "Total number of original samples:  24108\n"
     ]
    }
   ],
   "source": [
    "print (\"Total number of original samples: \", len(images))"
   ]
  },
  {
   "cell_type": "code",
   "execution_count": 8,
   "metadata": {
    "collapsed": true
   },
   "outputs": [],
   "source": [
    "from sklearn.model_selection import train_test_split\n",
    "from random import shuffle\n",
    "\n",
    "samples = list(zip(images, measurements))\n",
    "train_samples, validation_samples = train_test_split(samples, test_size=0.2)\n",
    "\n",
    "def generator(samples, batch_size=32):\n",
    "    \"\"\"\n",
    "    Generate the required images and measurments for training/\n",
    "    `samples` is a list of pairs (`imagePath`, `measurement`).\n",
    "    \"\"\"\n",
    "    num_samples = len(samples)\n",
    "    while 1: # Loop forever so the generator never terminates\n",
    "        samples = sklearn.utils.shuffle(samples)\n",
    "        for offset in range(0, num_samples, batch_size):\n",
    "            batch_samples = samples[offset:offset+batch_size]\n",
    "\n",
    "            images = []\n",
    "            steeringAngle = []\n",
    "            for path, measurement in batch_samples:\n",
    "                imageRead = cv2.imread(path)\n",
    "                image = cv2.cvtColor(imageRead, cv2.COLOR_BGR2RGB)\n",
    "                images.append(image)\n",
    "                steeringAngle.append(measurement)\n",
    "                # Flip the image\n",
    "                images.append(cv2.flip(image,1))\n",
    "                steeringAngle.append(measurement*-1.0)\n",
    "\n",
    "            X_train = np.array(images)\n",
    "            y_train = np.array(steeringAngle)\n",
    "            yield sklearn.utils.shuffle(X_train, y_train)"
   ]
  },
  {
   "cell_type": "code",
   "execution_count": 9,
   "metadata": {},
   "outputs": [
    {
     "name": "stdout",
     "output_type": "stream",
     "text": [
      "Number of Train samples:  19286\n",
      "Number of validation samples:  4822\n"
     ]
    }
   ],
   "source": [
    "print (\"Number of Train samples: \", len(train_samples))\n",
    "print (\"Number of validation samples: \", len(validation_samples))"
   ]
  },
  {
   "cell_type": "code",
   "execution_count": 10,
   "metadata": {
    "collapsed": true
   },
   "outputs": [],
   "source": [
    "#generate the training and validation samples\n",
    "train_generator = generator(train_samples, batch_size=32)\n",
    "validation_generator = generator(validation_samples, batch_size=32)"
   ]
  },
  {
   "cell_type": "code",
   "execution_count": 11,
   "metadata": {},
   "outputs": [
    {
     "name": "stderr",
     "output_type": "stream",
     "text": [
      "Using TensorFlow backend.\n"
     ]
    },
    {
     "name": "stdout",
     "output_type": "stream",
     "text": [
      "Epoch 1/3\n",
      "19264/19286 [============================>.] - ETA: 0s - loss: 0.0397"
     ]
    },
    {
     "name": "stderr",
     "output_type": "stream",
     "text": [
      "/home/carnd/anaconda3/envs/carnd-term1/lib/python3.5/site-packages/keras/engine/training.py:1569: UserWarning: Epoch comprised more than `samples_per_epoch` samples, which might affect learning results. Set `samples_per_epoch` correctly to avoid this warning.\n",
      "  warnings.warn('Epoch comprised more than '\n"
     ]
    },
    {
     "name": "stdout",
     "output_type": "stream",
     "text": [
      "19328/19286 [==============================] - 46s - loss: 0.0396 - val_loss: 0.0372\n",
      "Epoch 2/3\n",
      "19308/19286 [==============================] - 43s - loss: 0.0380 - val_loss: 0.0351\n",
      "Epoch 3/3\n",
      "19328/19286 [==============================] - 43s - loss: 0.0366 - val_loss: 0.0372\n"
     ]
    }
   ],
   "source": [
    "# NVIDIA architecture\n",
    "\n",
    "from keras.models import Sequential\n",
    "from keras.layers import Flatten, Dense, Lambda, Activation, Cropping2D\n",
    "from keras.layers.convolutional import Convolution2D\n",
    "from keras.layers.convolutional import MaxPooling2D\n",
    "\n",
    "model = Sequential()\n",
    "model.add(Lambda(lambda x: (x / 255.0) - 0.5, input_shape=(160,320,3)))\n",
    "model.add(Cropping2D(cropping=((60,20), (0,0))))\n",
    "model.add(Convolution2D(24,5,5, subsample=(2,2), activation='relu'))\n",
    "model.add(Convolution2D(36,5,5, subsample=(2,2), activation='relu'))\n",
    "model.add(Convolution2D(48,5,5, subsample=(2,2), activation='relu'))\n",
    "model.add(Convolution2D(64,3,3, activation='relu'))\n",
    "model.add(Convolution2D(64,3,3, activation='relu'))\n",
    "model.add(Flatten())\n",
    "model.add(Dense(100))\n",
    "model.add(Dense(50))\n",
    "model.add(Dense(10))\n",
    "model.add(Dense(1))\n",
    "\n",
    "model.compile(loss='mse', optimizer='adam')\n",
    "history_object = model.fit_generator(train_generator, samples_per_epoch= \\\n",
    "                 len(train_samples), validation_data=validation_generator, \\\n",
    "                 nb_val_samples=len(validation_samples), nb_epoch=3, verbose=1)\n",
    "\n",
    "model.save('modelFinal.h5')"
   ]
  },
  {
   "cell_type": "code",
   "execution_count": 12,
   "metadata": {},
   "outputs": [
    {
     "name": "stdout",
     "output_type": "stream",
     "text": [
      "____________________________________________________________________________________________________\n",
      "Layer (type)                     Output Shape          Param #     Connected to                     \n",
      "====================================================================================================\n",
      "lambda_1 (Lambda)                (None, 160, 320, 3)   0           lambda_input_1[0][0]             \n",
      "____________________________________________________________________________________________________\n",
      "cropping2d_1 (Cropping2D)        (None, 80, 320, 3)    0           lambda_1[0][0]                   \n",
      "____________________________________________________________________________________________________\n",
      "convolution2d_1 (Convolution2D)  (None, 38, 158, 24)   1824        cropping2d_1[0][0]               \n",
      "____________________________________________________________________________________________________\n",
      "convolution2d_2 (Convolution2D)  (None, 17, 77, 36)    21636       convolution2d_1[0][0]            \n",
      "____________________________________________________________________________________________________\n",
      "convolution2d_3 (Convolution2D)  (None, 7, 37, 48)     43248       convolution2d_2[0][0]            \n",
      "____________________________________________________________________________________________________\n",
      "convolution2d_4 (Convolution2D)  (None, 5, 35, 64)     27712       convolution2d_3[0][0]            \n",
      "____________________________________________________________________________________________________\n",
      "convolution2d_5 (Convolution2D)  (None, 3, 33, 64)     36928       convolution2d_4[0][0]            \n",
      "____________________________________________________________________________________________________\n",
      "flatten_1 (Flatten)              (None, 6336)          0           convolution2d_5[0][0]            \n",
      "____________________________________________________________________________________________________\n",
      "dense_1 (Dense)                  (None, 100)           633700      flatten_1[0][0]                  \n",
      "____________________________________________________________________________________________________\n",
      "dense_2 (Dense)                  (None, 50)            5050        dense_1[0][0]                    \n",
      "____________________________________________________________________________________________________\n",
      "dense_3 (Dense)                  (None, 10)            510         dense_2[0][0]                    \n",
      "____________________________________________________________________________________________________\n",
      "dense_4 (Dense)                  (None, 1)             11          dense_3[0][0]                    \n",
      "====================================================================================================\n",
      "Total params: 770,619\n",
      "Trainable params: 770,619\n",
      "Non-trainable params: 0\n",
      "____________________________________________________________________________________________________\n"
     ]
    }
   ],
   "source": [
    "model.summary()"
   ]
  },
  {
   "cell_type": "code",
   "execution_count": null,
   "metadata": {
    "collapsed": true
   },
   "outputs": [],
   "source": []
  }
 ],
 "metadata": {
  "kernelspec": {
   "display_name": "Python 3",
   "language": "python",
   "name": "python3"
  },
  "language_info": {
   "codemirror_mode": {
    "name": "ipython",
    "version": 3
   },
   "file_extension": ".py",
   "mimetype": "text/x-python",
   "name": "python",
   "nbconvert_exporter": "python",
   "pygments_lexer": "ipython3",
   "version": "3.5.2"
  },
  "widgets": {
   "state": {},
   "version": "1.1.2"
  }
 },
 "nbformat": 4,
 "nbformat_minor": 2
}
